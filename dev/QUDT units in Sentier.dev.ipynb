{
 "cells": [
  {
   "cell_type": "code",
   "execution_count": 1,
   "id": "80cee7dd-02a9-4192-b263-097a8e80d6ed",
   "metadata": {},
   "outputs": [],
   "source": [
    "from rdflib import Graph, Literal\n",
    "from rdflib.namespace import SKOS, RDF, OWL, RDFS\n",
    "from rdflib import Namespace\n",
    "from pathlib import Path"
   ]
  },
  {
   "cell_type": "code",
   "execution_count": 2,
   "id": "69d4f363-c9f1-47ff-9395-64ad9fef00d2",
   "metadata": {},
   "outputs": [],
   "source": [
    "from sentier_vocab.qudt import *"
   ]
  },
  {
   "cell_type": "code",
   "execution_count": 3,
   "id": "85d0429c-5e99-493f-99f8-11afbb2580b1",
   "metadata": {},
   "outputs": [],
   "source": [
    "q = QUDT(Path(\"/Users/cmutel/Library/Application Support/sentier.dev/qudt-qudt-public-repo-v2.1.41-0-g20cac17.zip\"))\n",
    "q.write_graph(\"qudt-sentier-dev.ttl\")"
   ]
  }
 ],
 "metadata": {
  "kernelspec": {
   "display_name": "Python 3 (ipykernel)",
   "language": "python",
   "name": "python3"
  },
  "language_info": {
   "codemirror_mode": {
    "name": "ipython",
    "version": 3
   },
   "file_extension": ".py",
   "mimetype": "text/x-python",
   "name": "python",
   "nbconvert_exporter": "python",
   "pygments_lexer": "ipython3",
   "version": "3.12.4"
  }
 },
 "nbformat": 4,
 "nbformat_minor": 5
}
