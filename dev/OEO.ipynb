{
 "cells": [
  {
   "cell_type": "code",
   "execution_count": 15,
   "id": "735e78fe-f394-4e03-af73-977eb74d4273",
   "metadata": {},
   "outputs": [],
   "source": [
    "from sentier_vocab.utils import get_file_in_downloadable_zip_archive\n",
    "from rdflib import Graph, Literal, Namespace, URIRef\n",
    "from rdflib.namespace import DCTERMS, OWL, RDF, RDFS, SKOS"
   ]
  },
  {
   "cell_type": "code",
   "execution_count": 13,
   "id": "0123b145-12c0-4746-bf8b-52228fe02e67",
   "metadata": {},
   "outputs": [],
   "source": [
    "OEO = Namespace(\"http://openenergy-platform.org/ontology/oeo/\")"
   ]
  },
  {
   "cell_type": "code",
   "execution_count": 6,
   "id": "659648d3-397a-45da-bec2-fa136759acd1",
   "metadata": {},
   "outputs": [
    {
     "name": "stderr",
     "output_type": "stream",
     "text": [
      "\u001b[32m2024-10-05 18:18:57.319\u001b[0m | \u001b[1mINFO    \u001b[0m | \u001b[36msentier_vocab.utils\u001b[0m:\u001b[36mstreaming_download\u001b[0m:\u001b[36m70\u001b[0m - \u001b[1mDownloading oeo-2.5.0.zip to /Users/cmutel/Library/Application Support/sentier.dev/oeo-2.5.0.zip\u001b[0m\n"
     ]
    }
   ],
   "source": [
    "data = get_file_in_downloadable_zip_archive(\n",
    "    \"https://openenergyplatform.org/ontology/oeo/releases/latest\",\n",
    "    \"oeo-full.owl\"\n",
    ")"
   ]
  },
  {
   "cell_type": "code",
   "execution_count": 7,
   "id": "26bf8a83-bd64-459c-a782-8e95c75680f4",
   "metadata": {},
   "outputs": [],
   "source": [
    "graph = Graph().parse(data, format=\"xml\")"
   ]
  },
  {
   "cell_type": "code",
   "execution_count": 9,
   "id": "6074391d-25f4-4936-a786-74b4498a9330",
   "metadata": {},
   "outputs": [],
   "source": [
    "for x, y, z in graph.triples((None, None, None)):\n",
    "    break"
   ]
  },
  {
   "cell_type": "code",
   "execution_count": 10,
   "id": "ee92e2ab-8e2b-4d0b-bb67-595248e8f568",
   "metadata": {},
   "outputs": [
    {
     "data": {
      "text/plain": [
       "(rdflib.term.BNode('Ndbf4beea73e44cfea1a184136ddabbc6'),\n",
       " rdflib.term.URIRef('http://www.w3.org/2002/07/owl#someValuesFrom'),\n",
       " rdflib.term.URIRef('http://openenergy-platform.org/ontology/oeo/OEO_00000396'))"
      ]
     },
     "execution_count": 10,
     "metadata": {},
     "output_type": "execute_result"
    }
   ],
   "source": [
    "x, y, z"
   ]
  },
  {
   "cell_type": "code",
   "execution_count": 11,
   "id": "671eb241-cb7e-41f5-a91c-caa352a6ca90",
   "metadata": {},
   "outputs": [],
   "source": [
    "from sentier_vocab.utils import get_file_in_downloadable_zip_archive, get_one_in_graph"
   ]
  },
  {
   "cell_type": "code",
   "execution_count": 22,
   "id": "b1b6c70c-77cd-4495-89ca-2980d98b89f5",
   "metadata": {},
   "outputs": [
    {
     "ename": "GraphFilterError",
     "evalue": "\nGiven criteria produced 11 results; needed exactly 1.\nCriteria: (rdflib.term.URIRef('http://openenergy-platform.org/ontology/oeo/OEO_00000220'), None, None)\n\t(rdflib.term.URIRef('http://openenergy-platform.org/ontology/oeo/OEO_00000220'), rdflib.term.URIRef('http://www.w3.org/1999/02/22-rdf-syntax-ns#type'), rdflib.term.URIRef('http://www.w3.org/2002/07/owl#Class'))\n\t(rdflib.term.URIRef('http://openenergy-platform.org/ontology/oeo/OEO_00000220'), rdflib.term.URIRef('http://www.w3.org/2000/01/rdf-schema#subClassOf'), rdflib.term.URIRef('http://openenergy-platform.org/ontology/oeo/OEO_00000331'))\n\t(rdflib.term.URIRef('http://openenergy-platform.org/ontology/oeo/OEO_00000220'), rdflib.term.URIRef('http://www.w3.org/2000/01/rdf-schema#subClassOf'), rdflib.term.BNode('N56fd79f00bac45e5bfddfa4a3e9a5b17'))\n\t(rdflib.term.URIRef('http://openenergy-platform.org/ontology/oeo/OEO_00000220'), rdflib.term.URIRef('http://www.w3.org/2000/01/rdf-schema#subClassOf'), rdflib.term.BNode('N6fb3417a81cb4ddbb92a6b45acd64c6d'))\n\t(rdflib.term.URIRef('http://openenergy-platform.org/ontology/oeo/OEO_00000220'), rdflib.term.URIRef('http://www.w3.org/2000/01/rdf-schema#subClassOf'), rdflib.term.BNode('N346c436a190543fa89100e6962aa7b02'))\n\t(rdflib.term.URIRef('http://openenergy-platform.org/ontology/oeo/OEO_00000220'), rdflib.term.URIRef('http://openenergy-platform.org/ontology/oeo/OEO_00020426'), rdflib.term.Literal('issue: https://github.com/OpenEnergyPlatform/ontology/issues/134'))\n\t(rdflib.term.URIRef('http://openenergy-platform.org/ontology/oeo/OEO_00000220'), rdflib.term.URIRef('http://purl.obolibrary.org/obo/IAO_0000115'), rdflib.term.Literal('Hydrogen is a portion of matter with the chemical formula H2. It has a gaseous normal state of matter. As it can be oxidised it can be used as a fuel.', lang='en'))\n\t(rdflib.term.URIRef('http://openenergy-platform.org/ontology/oeo/OEO_00000220'), rdflib.term.URIRef('http://purl.obolibrary.org/obo/IAO_0000118'), rdflib.term.Literal('H2'))\n\t(rdflib.term.URIRef('http://openenergy-platform.org/ontology/oeo/OEO_00000220'), rdflib.term.URIRef('http://purl.obolibrary.org/obo/IAO_0000118'), rdflib.term.Literal('Wasserstoff', lang='de'))\n\t(rdflib.term.URIRef('http://openenergy-platform.org/ontology/oeo/OEO_00000220'), rdflib.term.URIRef('http://purl.obolibrary.org/obo/IAO_0006011'), rdflib.term.Literal('http://purl.obolibrary.org/obo/CHEBI_18276'))\n\t(rdflib.term.URIRef('http://openenergy-platform.org/ontology/oeo/OEO_00000220'), rdflib.term.URIRef('http://www.w3.org/2000/01/rdf-schema#label'), rdflib.term.Literal('hydrogen', lang='en'))",
     "output_type": "error",
     "traceback": [
      "\u001b[0;31m---------------------------------------------------------------------------\u001b[0m",
      "\u001b[0;31mGraphFilterError\u001b[0m                          Traceback (most recent call last)",
      "Cell \u001b[0;32mIn[22], line 1\u001b[0m\n\u001b[0;32m----> 1\u001b[0m hydrogen \u001b[38;5;241m=\u001b[39m \u001b[43mget_one_in_graph\u001b[49m\u001b[43m(\u001b[49m\u001b[43mgraph\u001b[49m\u001b[43m,\u001b[49m\u001b[43m \u001b[49m\u001b[43m(\u001b[49m\u001b[43mURIRef\u001b[49m\u001b[43m(\u001b[49m\u001b[43mOEO\u001b[49m\u001b[43m \u001b[49m\u001b[38;5;241;43m+\u001b[39;49m\u001b[43m \u001b[49m\u001b[38;5;124;43m\"\u001b[39;49m\u001b[38;5;124;43mOEO_00000220\u001b[39;49m\u001b[38;5;124;43m\"\u001b[39;49m\u001b[43m)\u001b[49m\u001b[43m,\u001b[49m\u001b[43m \u001b[49m\u001b[38;5;28;43;01mNone\u001b[39;49;00m\u001b[43m,\u001b[49m\u001b[43m \u001b[49m\u001b[38;5;28;43;01mNone\u001b[39;49;00m\u001b[43m)\u001b[49m\u001b[43m)\u001b[49m\n",
      "File \u001b[0;32m~/Code/Sentier/sentier_vocab/sentier_vocab/utils.py:91\u001b[0m, in \u001b[0;36mget_one_in_graph\u001b[0;34m(graph, criteria)\u001b[0m\n\u001b[1;32m     89\u001b[0m \u001b[38;5;28;01mif\u001b[39;00m candidates:\n\u001b[1;32m     90\u001b[0m     ERROR \u001b[38;5;241m+\u001b[39m\u001b[38;5;241m=\u001b[39m \u001b[38;5;124m\"\u001b[39m\u001b[38;5;130;01m\\n\u001b[39;00m\u001b[38;5;130;01m\\t\u001b[39;00m\u001b[38;5;124m\"\u001b[39m \u001b[38;5;241m+\u001b[39m \u001b[38;5;124m\"\u001b[39m\u001b[38;5;130;01m\\n\u001b[39;00m\u001b[38;5;130;01m\\t\u001b[39;00m\u001b[38;5;124m\"\u001b[39m\u001b[38;5;241m.\u001b[39mjoin(\u001b[38;5;28mstr\u001b[39m(line) \u001b[38;5;28;01mfor\u001b[39;00m line \u001b[38;5;129;01min\u001b[39;00m candidates)\n\u001b[0;32m---> 91\u001b[0m \u001b[38;5;28;01mraise\u001b[39;00m GraphFilterError(ERROR)\n",
      "\u001b[0;31mGraphFilterError\u001b[0m: \nGiven criteria produced 11 results; needed exactly 1.\nCriteria: (rdflib.term.URIRef('http://openenergy-platform.org/ontology/oeo/OEO_00000220'), None, None)\n\t(rdflib.term.URIRef('http://openenergy-platform.org/ontology/oeo/OEO_00000220'), rdflib.term.URIRef('http://www.w3.org/1999/02/22-rdf-syntax-ns#type'), rdflib.term.URIRef('http://www.w3.org/2002/07/owl#Class'))\n\t(rdflib.term.URIRef('http://openenergy-platform.org/ontology/oeo/OEO_00000220'), rdflib.term.URIRef('http://www.w3.org/2000/01/rdf-schema#subClassOf'), rdflib.term.URIRef('http://openenergy-platform.org/ontology/oeo/OEO_00000331'))\n\t(rdflib.term.URIRef('http://openenergy-platform.org/ontology/oeo/OEO_00000220'), rdflib.term.URIRef('http://www.w3.org/2000/01/rdf-schema#subClassOf'), rdflib.term.BNode('N56fd79f00bac45e5bfddfa4a3e9a5b17'))\n\t(rdflib.term.URIRef('http://openenergy-platform.org/ontology/oeo/OEO_00000220'), rdflib.term.URIRef('http://www.w3.org/2000/01/rdf-schema#subClassOf'), rdflib.term.BNode('N6fb3417a81cb4ddbb92a6b45acd64c6d'))\n\t(rdflib.term.URIRef('http://openenergy-platform.org/ontology/oeo/OEO_00000220'), rdflib.term.URIRef('http://www.w3.org/2000/01/rdf-schema#subClassOf'), rdflib.term.BNode('N346c436a190543fa89100e6962aa7b02'))\n\t(rdflib.term.URIRef('http://openenergy-platform.org/ontology/oeo/OEO_00000220'), rdflib.term.URIRef('http://openenergy-platform.org/ontology/oeo/OEO_00020426'), rdflib.term.Literal('issue: https://github.com/OpenEnergyPlatform/ontology/issues/134'))\n\t(rdflib.term.URIRef('http://openenergy-platform.org/ontology/oeo/OEO_00000220'), rdflib.term.URIRef('http://purl.obolibrary.org/obo/IAO_0000115'), rdflib.term.Literal('Hydrogen is a portion of matter with the chemical formula H2. It has a gaseous normal state of matter. As it can be oxidised it can be used as a fuel.', lang='en'))\n\t(rdflib.term.URIRef('http://openenergy-platform.org/ontology/oeo/OEO_00000220'), rdflib.term.URIRef('http://purl.obolibrary.org/obo/IAO_0000118'), rdflib.term.Literal('H2'))\n\t(rdflib.term.URIRef('http://openenergy-platform.org/ontology/oeo/OEO_00000220'), rdflib.term.URIRef('http://purl.obolibrary.org/obo/IAO_0000118'), rdflib.term.Literal('Wasserstoff', lang='de'))\n\t(rdflib.term.URIRef('http://openenergy-platform.org/ontology/oeo/OEO_00000220'), rdflib.term.URIRef('http://purl.obolibrary.org/obo/IAO_0006011'), rdflib.term.Literal('http://purl.obolibrary.org/obo/CHEBI_18276'))\n\t(rdflib.term.URIRef('http://openenergy-platform.org/ontology/oeo/OEO_00000220'), rdflib.term.URIRef('http://www.w3.org/2000/01/rdf-schema#label'), rdflib.term.Literal('hydrogen', lang='en'))"
     ]
    }
   ],
   "source": [
    "hydrogen = get_one_in_graph(graph, (URIRef(OEO + \"OEO_00000220\"), None, None))"
   ]
  },
  {
   "cell_type": "code",
   "execution_count": null,
   "id": "62e21b4a-7334-4ebd-bd60-df984bb9d48d",
   "metadata": {},
   "outputs": [],
   "source": []
  }
 ],
 "metadata": {
  "kernelspec": {
   "display_name": "Python 3 (ipykernel)",
   "language": "python",
   "name": "python3"
  },
  "language_info": {
   "codemirror_mode": {
    "name": "ipython",
    "version": 3
   },
   "file_extension": ".py",
   "mimetype": "text/x-python",
   "name": "python",
   "nbconvert_exporter": "python",
   "pygments_lexer": "ipython3",
   "version": "3.12.4"
  }
 },
 "nbformat": 4,
 "nbformat_minor": 5
}
