{
 "cells": [
  {
   "cell_type": "code",
   "execution_count": 1,
   "id": "1997606d-2d07-4cc1-895a-f44eb48f54eb",
   "metadata": {},
   "outputs": [],
   "source": [
    "from sentier_vocab import ENVO\n",
    "from rdflib import Graph, Literal, Namespace, URIRef\n",
    "from rdflib.namespace import DCTERMS, OWL, RDF, RDFS, SKOS"
   ]
  },
  {
   "cell_type": "code",
   "execution_count": 2,
   "id": "ad623e44-4a04-4d9d-bd94-01663d0033c3",
   "metadata": {},
   "outputs": [],
   "source": [
    "envo = ENVO()"
   ]
  },
  {
   "cell_type": "code",
   "execution_count": 3,
   "id": "8a2af7d0-15fb-447d-82e6-f5f8b0ccef7d",
   "metadata": {},
   "outputs": [
    {
     "data": {
      "text/plain": [
       "PosixPath('/Users/cmutel/Code/Sentier/sentier_vocab/dev/envo-sentier-dev.ttl')"
      ]
     },
     "execution_count": 3,
     "metadata": {},
     "output_type": "execute_result"
    }
   ],
   "source": [
    "envo.write_graph()"
   ]
  }
 ],
 "metadata": {
  "kernelspec": {
   "display_name": "Python 3 (ipykernel)",
   "language": "python",
   "name": "python3"
  },
  "language_info": {
   "codemirror_mode": {
    "name": "ipython",
    "version": 3
   },
   "file_extension": ".py",
   "mimetype": "text/x-python",
   "name": "python",
   "nbconvert_exporter": "python",
   "pygments_lexer": "ipython3",
   "version": "3.12.4"
  }
 },
 "nbformat": 4,
 "nbformat_minor": 5
}
